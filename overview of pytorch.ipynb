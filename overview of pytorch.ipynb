{
 "cells": [
  {
   "cell_type": "markdown",
   "id": "d9a92765",
   "metadata": {},
   "source": [
    "### overview of pytorch\n",
    "\n",
    "- machine learning framework\n",
    "- research prototyping\n",
    "- production deployment\n",
    "- open source"
   ]
  },
  {
   "cell_type": "code",
   "execution_count": 3,
   "id": "f5be06e1",
   "metadata": {},
   "outputs": [
    {
     "name": "stdout",
     "output_type": "stream",
     "text": [
      "tensor([[0., 0., 0.],\n",
      "        [0., 0., 0.],\n",
      "        [0., 0., 0.],\n",
      "        [0., 0., 0.],\n",
      "        [0., 0., 0.]])\n",
      "torch.float32\n"
     ]
    }
   ],
   "source": [
    "import torch\n",
    "\n",
    "x= torch.zeros(5,3)\n",
    "print(x)\n",
    "print(x.dtype)"
   ]
  },
  {
   "cell_type": "code",
   "execution_count": 4,
   "id": "3c73de93",
   "metadata": {},
   "outputs": [
    {
     "name": "stdout",
     "output_type": "stream",
     "text": [
      "tensor([[1, 1, 1],\n",
      "        [1, 1, 1],\n",
      "        [1, 1, 1],\n",
      "        [1, 1, 1],\n",
      "        [1, 1, 1]], dtype=torch.int16)\n"
     ]
    }
   ],
   "source": [
    "i= torch.ones((5,3),dtype=torch.int16)\n",
    "print(i)"
   ]
  },
  {
   "cell_type": "markdown",
   "id": "353c37a7",
   "metadata": {},
   "source": [
    "### 인공신경망 (numpy 버전)"
   ]
  },
  {
   "cell_type": "code",
   "execution_count": 9,
   "id": "22d25d09",
   "metadata": {},
   "outputs": [
    {
     "name": "stdout",
     "output_type": "stream",
     "text": [
      "99 276.70092747998086\n",
      "199 195.00810099603243\n",
      "299 138.34492508390775\n",
      "399 99.00275723916894\n",
      "499 71.6618569046856\n",
      "599 52.64441313079632\n",
      "699 39.40515494140304\n",
      "799 30.180831567263304\n",
      "899 23.748746383388887\n",
      "999 19.260233936469973\n",
      "1099 16.125696692261815\n",
      "1199 13.935153505288813\n",
      "1299 12.403273568022462\n",
      "1399 11.33131141061547\n",
      "1499 10.580720174259852\n",
      "1599 10.054842706758258\n",
      "1699 9.686195734338863\n",
      "1799 9.427630512548653\n",
      "1899 9.246182802071914\n",
      "1999 9.118790327345591\n",
      "Result: y = -0.017506227052513812 + 0.8515887416035725 x + 0.003020115471434182 x^2 + -0.09259754747135553 x^3\n"
     ]
    }
   ],
   "source": [
    "for t in range(2000):\n",
    "    # Forward pass: compute predicted y\n",
    "    # y = a + b x + c x^2 + d x^3\n",
    "    y_pred = a + b * x + c * x ** 2 + d * x ** 3\n",
    "\n",
    "    # Compute and print loss\n",
    "    loss = np.square(y_pred - y).sum()\n",
    "    if t % 100 == 99:\n",
    "        print(t, loss)\n",
    "\n",
    "    # Backprop to compute gradients of a, b, c, d with respect to loss\n",
    "    grad_y_pred = 2.0 * (y_pred - y)\n",
    "    grad_a = grad_y_pred.sum()\n",
    "    grad_b = (grad_y_pred * x).sum()\n",
    "    grad_c = (grad_y_pred * x ** 2).sum()\n",
    "    grad_d = (grad_y_pred * x ** 3).sum()\n",
    "\n",
    "    # Update weights\n",
    "    a -= learning_rate * grad_a\n",
    "    b -= learning_rate * grad_b\n",
    "    c -= learning_rate * grad_c\n",
    "    d -= learning_rate * grad_d\n",
    "\n",
    "print(f'Result: y = {a} + {b} x + {c} x^2 + {d} x^3')"
   ]
  },
  {
   "cell_type": "markdown",
   "id": "d91edf57",
   "metadata": {},
   "source": [
    "### 인공신경망 (tensor 버전)"
   ]
  },
  {
   "cell_type": "code",
   "execution_count": null,
   "id": "1282a1f3",
   "metadata": {},
   "outputs": [],
   "source": [
    "## dtype\n",
    "dtype= torch.float\n",
    "\n",
    "## cpu\n",
    "device= torch.device(\"cpu\")\n",
    "\n",
    "## gpu\n",
    "device= torch.device(\"cuda:0\") # Uncomment this to run on GPU\n",
    "\n",
    "## create random input and output data\n",
    "x= torch.linspace(-math.pi, math.pi, 2000, device=device, dtype=dtype)\n",
    "y= torch.sin(x)\n",
    "\n",
    "## randomly initialize weights\n",
    "a = torch.randn((), device=device, dtype=dtype)\n",
    "b = torch.randn((), device=device, dtype=dtype)\n",
    "c = torch.randn((), device=device, dtype=dtype)\n",
    "d = torch.randn((), device=device, dtype=dtype)\n",
    "\n",
    "## set learning_rate\n",
    "learning_rate= 1e-6\n",
    "\n",
    "for t in range(2000):\n",
    "    # Forward pass: compute predicted y\n",
    "    y_pred = a + b * x + c * x ** 2 + d * x ** 3\n",
    "\n",
    "    # Compute and print loss\n",
    "    loss = (y_pred - y).pow(2).sum().item()\n",
    "    if t % 100 == 99:\n",
    "        print(t, loss)\n",
    "\n",
    "    # Backprop to compute gradients of a, b, c, d with respect to loss\n",
    "    grad_y_pred = 2.0 * (y_pred - y)\n",
    "    grad_a = grad_y_pred.sum()\n",
    "    grad_b = (grad_y_pred * x).sum()\n",
    "    grad_c = (grad_y_pred * x ** 2).sum()\n",
    "    grad_d = (grad_y_pred * x ** 3).sum()\n",
    "\n",
    "    # Update weights using gradient descent\n",
    "    a -= learning_rate * grad_a\n",
    "    b -= learning_rate * grad_b\n",
    "    c -= learning_rate * grad_c\n",
    "    d -= learning_rate * grad_d\n",
    "\n",
    "\n",
    "print(f'Result: y = {a.item()} + {b.item()} x + {c.item()} x^2 + {d.item()} x^3')"
   ]
  }
 ],
 "metadata": {
  "kernelspec": {
   "display_name": "Python 3 (ipykernel)",
   "language": "python",
   "name": "python3"
  },
  "language_info": {
   "codemirror_mode": {
    "name": "ipython",
    "version": 3
   },
   "file_extension": ".py",
   "mimetype": "text/x-python",
   "name": "python",
   "nbconvert_exporter": "python",
   "pygments_lexer": "ipython3",
   "version": "3.7.11"
  }
 },
 "nbformat": 4,
 "nbformat_minor": 5
}
